{
 "cells": [
  {
   "cell_type": "markdown",
   "metadata": {},
   "source": [
    "# Cene hiš v odvisnosti od atributov"
   ]
  },
  {
   "cell_type": "markdown",
   "metadata": {},
   "source": [
    "\n"
   ]
  },
  {
   "cell_type": "markdown",
   "metadata": {},
   "source": [
    "Pri projektu za podatkovno rudarjenje smo se odločili za analizo podatkov o prodaji hiš na območju Ames, Iowa. Naš končni cilj je ugotoviti katere lastnosti manji in bolj vplivajo na končne cene hiš ter kako najbolje napovedati prodajno vrednost.\n",
    "\n",
    "Podatki s katerimi delamo so:\n",
    "- Tip stanovanja(npr. število sob, velikost stavbe, starost,...)\n",
    "- Tip nepremičnine(Komercialna, stanovanje v gosto poseljenem okolju, komercialna,...)\n",
    "- Povezava z ulico(Število stopal kolikor je naposredno povezana zgradba z ulico)\n",
    "- Velikost nepremičnine\n",
    "- Tip ceste, ki vodi do nepremičnine(makedam, asfaltirana ali pa ni direktno povezana s cesto)\n",
    "- Oblika nepremičnine\n",
    "- Ravnina nepremničnine\n",
    "- Osnovne storitve, ki jih vsebuje nepremičnina(elektrika, voda, ...)\n",
    "- Soseska\n",
    "- Bljižina železnice, avtoceste,...\n",
    "- Tip stanovanja\n",
    "- Ocena materijala in stanja hiše\n",
    "- Leto gradnje\n",
    "- Tip strehe, material,...\n",
    "- Tip fasade, kvaliteta materiala, sten,...\n",
    "- Temelji\n",
    "- Ogrevanje, hlajenje, napeljava,...\n",
    "- Kvaliteta in kvadratura posameznih prostorov(kuhinja, garaža, klet,...)\n",
    "- Vrednost pohištva\n",
    "- Podatki o prodaji(leto, mesec, cena,...)\n"
   ]
  },
  {
   "cell_type": "markdown",
   "metadata": {},
   "source": [
    "Prva stvar, ki smo jo naredili je da smo prebrali podatke in na osnovi učnih podatkov izračunali povprečno vrednost nepremičnin glede na njihovo sosesko. Z izrisom grafa so takoj razvidne najcenejše in najdražje lokacije.\n",
    "\n",
    "**Najcenejše:**\n",
    "\n",
    "    1. MeadowV\n",
    "    2. IDOTRR\n",
    "    3. BrDale\n",
    "**Najdražje:**\n",
    "\n",
    "    1. NoRidge\n",
    "    2. NridgHt\n",
    "    3. StoneBr\n",
    "\n",
    "![alt text](files/grafi/povprecna_prodajna_cena_lokacija_izboljsano.png \"Graf 1: Povprečna prodajna cena glede na lokacijo\")\n",
    "\n",
    "Nadaljevali smo z iskanjem zelo dobrih kupčij oziroma osamelcev na področju prodajna cena v razmerju z bivalno površino. Iz grafa lahko prepoznamo, da sta se zgodile dve zelo dobri kupčiji.\n",
    "\n",
    "![alt text](files/grafi/osamelci.png \"Graf 2: Iskanje osamelcev\")\n",
    "\n",
    "Ker nas pri nepremičninah najbolj zanima njihova prodajna cena smo iskali povezavo cene še z drugimi atributi. V spodnjih dveh grafih  smo iskali povezavo med letom izgradnje in ceno.\n",
    "![alt text](files/grafi/cena_leto_gradnje.png \"Graf 3: Korelacija cene in leta gradnje\")\n",
    "![alt text](files/grafi/povprecna_cena_leto_gradnje.png \"Graf 4: Povprecne cene in leta gradnje\")\n",
    "\n",
    "Cilji:\n",
    " - Izvedeti kje se nahjajo najdražje hiše.\n",
    " - Izvedeti kaj je tisto, kar daje hiši vrednost (katere lastnosti hiše).\n",
    " - Izvedeti kakšne hiše so najbolj povpraševane. \n",
    " - Napovedati ceno hiše glede na njene lastnosti. \n",
    "\n",
    "Kriteriji: \n",
    " - Povprečje cen v območju, kjer smo dobili, da so najdražje hiše mora biti večji kot povprečja cen za vsa ostala območja.\n",
    "    \n"
   ]
  },
  {
   "cell_type": "markdown",
   "metadata": {},
   "source": []
  },
  {
   "cell_type": "code",
   "execution_count": null,
   "metadata": {},
   "outputs": [],
   "source": []
  }
 ],
 "metadata": {
  "kernelspec": {
   "display_name": "Python 3",
   "language": "python",
   "name": "python3"
  },
  "language_info": {
   "codemirror_mode": {
    "name": "ipython",
    "version": 3
   },
   "file_extension": ".py",
   "mimetype": "text/x-python",
   "name": "python",
   "nbconvert_exporter": "python",
   "pygments_lexer": "ipython3",
   "version": "3.7.2"
  }
 },
 "nbformat": 4,
 "nbformat_minor": 2
}
