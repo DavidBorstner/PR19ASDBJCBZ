{
 "cells": [
  {
   "cell_type": "markdown",
   "metadata": {},
   "source": [
    "# Cene hiš v odvisnosti od atributov\n",
    "Podatkovno rudarjenje, projekt, 21.5.2019\n",
    "\n",
    "**Člani skupine:** Amadej Skornšek, Blaž Zdolšek, David Borštner in Jan Centrih"
   ]
  },
  {
   "cell_type": "markdown",
   "metadata": {},
   "source": [
    "Pri projektu za podatkovno rudarjenje smo se odločili za analizo podatkov o prodaji hiš na območju Ames, Iowa. Naš končni cilj je ugotoviti katere lastnosti manji in bolj vplivajo na končne cene hiš ter kako najbolje napovedati prodajno vrednost.\n",
    "\n",
    "Podatki s katerimi delamo so:\n",
    "- Tip stanovanja(npr. število sob, velikost stavbe, starost,...)\n",
    "- Tip nepremičnine(Komercialna, stanovanje v gosto poseljenem okolju, komercialna,...)\n",
    "- Povezava z ulico(Število stopal kolikor je naposredno povezana zgradba z ulico)\n",
    "- Velikost nepremičnine\n",
    "- Tip ceste, ki vodi do nepremičnine(makedam, asfaltirana ali pa ni direktno povezana s cesto)\n",
    "- Oblika nepremičnine\n",
    "- Ravnina nepremničnine\n",
    "- Osnovne storitve, ki jih vsebuje nepremičnina(elektrika, voda, ...)\n",
    "- Soseska\n",
    "- Bljižina železnice, avtoceste,...\n",
    "- Tip stanovanja\n",
    "- Ocena materijala in stanja hiše\n",
    "- Leto gradnje\n",
    "- Tip strehe, material,...\n",
    "- Tip fasade, kvaliteta materiala, sten,...\n",
    "- Temelji\n",
    "- Ogrevanje, hlajenje, napeljava,...\n",
    "- Kvaliteta in kvadratura posameznih prostorov(kuhinja, garaža, klet,...)\n",
    "- Vrednost pohištva\n",
    "- Podatki o prodaji(leto, mesec, cena,...)\n"
   ]
  },
  {
   "cell_type": "markdown",
   "metadata": {},
   "source": [
    "### Povprečne cene glede na naselje\n",
    "Prva stvar, ki smo jo naredili je da smo prebrali podatke in na osnovi učnih podatkov izračunali povprečno vrednost nepremičnin glede na njihovo sosesko. Z izrisom grafa so takoj razvidne najcenejše in najdražje lokacije.\n",
    "\n",
    "**Najcenejše:**\n",
    "\n",
    "    1. MeadowV\n",
    "    2. IDOTRR\n",
    "    3. BrDale\n",
    "**Najdražje:**\n",
    "\n",
    "    1. NoRidge\n",
    "    2. NridgHt\n",
    "    3. StoneBr\n",
    "\n",
    "![alt text](files/grafi/povprecna_prodajna_cena_lokacija_izboljsano.png \"Graf 1: Povprečna prodajna cena glede na lokacijo\")\n"
   ]
  },
  {
   "cell_type": "markdown",
   "metadata": {},
   "source": [
    "## Korelacije\n",
    "\n",
    "Da bi izvedeli kaj daje hišam vrednost, smo pregledali korelacije med različnimi atributi hiše ter končne prodajne cene. "
   ]
  },
  {
   "cell_type": "markdown",
   "metadata": {},
   "source": [
    "### Starost hiše in cena\n",
    "\n",
    "Ker nas pri nepremičninah najbolj zanima njihova prodajna cena smo iskali povezavo cene še z drugimi atributi. V spodnjih dveh grafih  smo iskali povezavo med letom izgradnje in ceno.\n",
    "![alt text](files/grafi/cena_leto_gradnje.png \"Graf 3: Korelacija cene in leta gradnje\")\n",
    "![alt text](files/grafi/povprecna_cena_leto_gradnje.png \"Graf 4: Povprecne cene in leta gradnje\")\n"
   ]
  },
  {
   "cell_type": "markdown",
   "metadata": {},
   "source": [
    "### Osamelci\n",
    "\n",
    "Nadaljevali smo z iskanjem zelo dobrih kupčij oziroma osamelcev na področju prodajna cena v razmerju z bivalno površino. Iz grafa lahko prepoznamo, da sta se zgodile dve zelo dobri kupčiji.\n",
    "\n",
    "![alt text](files/grafi/osamelci.png \"Graf 2: Iskanje osamelcev\")\n",
    "\n",
    "Z nadaljno analizo ostalih podatkov teh dveh hiš smo ugotovili, da sta bile obe dve hiše na splošno ocenjene zelo dobro, tako da stanje hiše ni vpljivalo na tako nizko ceno hiše. Razlog za tako nizko ceno je morda lokacija, saj se hiša nahaja v naselju Edwards, kjer so cene hiš dosti nižje od ostalih naselij, ali pa je prišlo do preproste napake pri vnosu podatkov.\n",
    "\n",
    "Za nadaljno obdelavo in napovedovanje cen hiš pa je smiselno takšne osamelce odstraniti, saj lahko poslabšajo natančnost napovednega modela."
   ]
  },
  {
   "cell_type": "markdown",
   "metadata": {},
   "source": [
    "### Kaj daje hišam vrednost?\n",
    "\n",
    "Za to smo uporabili korelacijsko matriko, kjer smo izvedeli, da najbolj izstopata atributa OverallQual(Povprečna kvaliteta nepremičnine) ter GrLivArea(Celotna površina zemlje). Zanimivo se nam zdi, da OverallCond(Stanje v kakršnem je nepremičnina) nima nekega večjega vpliva na končno ceno, ravno obratno ima enega najmanjših vplivov.\n",
    "<h3 style=\"text-align: center;\">Graf korelacije atributov</h3>\n",
    "\n",
    "![alt text](files/grafi/korelacijska-matrika.png \"Graf 5: Korelacijska matrika za atribute\")\n",
    "\n",
    "Da smo dobili glavnih 5, ki najbolj vplivajo na ceno smo naredili še en graf, ki prikazuje da so poleg OverallQual ter GrLivArea še zelo vplivni število avtov, ki jih lahko spravimo v garažo, površina garaže ter površina podstrešja.\n",
    "\n",
    "<h3 style=\"text-align: center; padding-left:100px\">Graf korelacije najbolj pomembnih atributov</h3>\n",
    "\n",
    "![alt text](files/grafi/korelacijskaMatrikaGlavniPovecano.png \"Graf 6: Korelacijska matrika za najboljv vplivne atribute\" )"
   ]
  },
  {
   "cell_type": "markdown",
   "metadata": {},
   "source": [
    "## Napovedovanje cen\n",
    "\n",
    "Za napovedovanje cen smo podatke najprej vizualizirali. Pri ciljnem atributu SalePrice smo opazili,\n",
    "da ni porazdeljen normalno, zato smo ga z log transformacijo prevedli v normalno distribuiranega.\n",
    "\n",
    "![alt text](files/grafi/porazdelitev.png \"Graf 7: Graf porazdelitve cen\")\n",
    "![alt text](files/grafi/porazdelitevLog.png \"Graf 8: Graf porazdelitve cen z log transformacijo\")\n"
   ]
  },
  {
   "cell_type": "markdown",
   "metadata": {},
   "source": [
    "Nato smo se začeli ukvarjati z predprocesiranjem podatkov. Popravili smo prazne vrednosti podatkov,\n",
    "za vsak atribut smo skušali najti najbolj ustrezne nadomestne vrednosti. Nekatere numerične spremelnjivke\n",
    "smo pretvorili v kategorične, vse tekstovne podatke smo pretvorili v numerične za potrebe napovednega modela.\n",
    "Porazdelitev podatkov smo popravili z Box Cox transformacijo. Za napovedni model smo izbrali Kernel Ridge iz\n",
    "modula sklearn. Kakovost predikcij smo ovrednotili s pomočjo prečnega preverjanja in RMSLE (logarithmic error)\n",
    "scora.\n",
    "\n",
    "![alt text](files/grafi/tabelaPredikcij.png \"Tabela 1: Tabela dvajsetih napovedanih cen\")\n"
   ]
  }
 ],
 "metadata": {
  "kernelspec": {
   "display_name": "Python 3",
   "language": "python",
   "name": "python3"
  },
  "language_info": {
   "codemirror_mode": {
    "name": "ipython",
    "version": 3
   },
   "file_extension": ".py",
   "mimetype": "text/x-python",
   "name": "python",
   "nbconvert_exporter": "python",
   "pygments_lexer": "ipython3",
   "version": "3.7.1"
  }
 },
 "nbformat": 4,
 "nbformat_minor": 2
}
